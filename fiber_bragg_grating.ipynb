{
 "cells": [
  {
   "cell_type": "code",
   "execution_count": 4,
   "metadata": {},
   "outputs": [],
   "source": [
    "# 加入lumapi路径\n",
    "import imp\n",
    "#import os\n",
    "lumapi = imp.load_source('lumapi', \"C:\\\\Program Files\\\\Lumerical\\\\v202\\\\api\\\\python\\\\lumapi.py\")\n",
    "#os.add_dll_directory(\"C:\\\\Program Files\\\\Lumerical\\\\v202\\\\api\\\\python\\\\lumapi.py\")\n",
    "import lumapi\n",
    "\n",
    "import matplotlib.pyplot as plt\n",
    "import numpy as np\n",
    "import time\n",
    "\n",
    "from rich.progress import Progress\n"
   ]
  },
  {
   "cell_type": "code",
   "execution_count": 5,
   "metadata": {},
   "outputs": [],
   "source": [
    "R=[]\n",
    "r_crosses=np.array([])\n",
    "for i in range(20):\n",
    "    r_crosses=np.append(r_crosses,100e-6+i*2e-6)"
   ]
  },
  {
   "cell_type": "code",
   "execution_count": 6,
   "metadata": {},
   "outputs": [],
   "source": [
    "# 打开fdtd仿真文件\n",
    "fdtd = lumapi.FDTD(filename=\"fiber_bragg_grating.fsp\")\n"
   ]
  },
  {
   "cell_type": "code",
   "execution_count": 7,
   "metadata": {},
   "outputs": [
    {
     "data": {
      "application/vnd.jupyter.widget-view+json": {
       "model_id": "345ea7f3261140c98255585fc9c5c992",
       "version_major": 2,
       "version_minor": 0
      },
      "text/plain": [
       "Output()"
      ]
     },
     "metadata": {},
     "output_type": "display_data"
    },
    {
     "data": {
      "text/html": [
       "<pre style=\"white-space:pre;overflow-x:auto;line-height:normal;font-family:Menlo,'DejaVu Sans Mono',consolas,'Courier New',monospace\"></pre>\n"
      ],
      "text/plain": []
     },
     "metadata": {},
     "output_type": "display_data"
    },
    {
     "data": {
      "text/html": [
       "<pre style=\"white-space:pre;overflow-x:auto;line-height:normal;font-family:Menlo,'DejaVu Sans Mono',consolas,'Courier New',monospace\">\n",
       "</pre>\n"
      ],
      "text/plain": [
       "\n"
      ]
     },
     "metadata": {},
     "output_type": "display_data"
    }
   ],
   "source": [
    "with Progress() as progress:\n",
    "    task_fdtd=progress.add_task(\"[cyan]Running FDTD...\",total=len(r_crosses))\n",
    "    for r_cross in r_crosses:\n",
    "        # 需要切换到layout模式才可以更改参数\n",
    "        fdtd.switchtolayout()\n",
    "        # # 选中平面波源\n",
    "        # fdtd.select(\"PlaneSource\")\n",
    "        # # 更改中心波长\n",
    "        # fdtd.set(\"center wavelength\",1.5e-6)\n",
    "        fdtd.select(\"fiber_bragg_grating\")\n",
    "        fdtd.set(\"r_cross\",r_cross)\n",
    "        # 运行仿真\n",
    "        fdtd.run()\n",
    "        # 读取结果 第一个参数为监视器名称，第二个为结果名称\n",
    "        R.append(fdtd.getresult(\"R\",\"T\"))\n",
    "        progress.update(task_fdtd,advance=1)\n"
   ]
  },
  {
   "cell_type": "code",
   "execution_count": 9,
   "metadata": {},
   "outputs": [],
   "source": [
    "Return_T=np.array(R[0]['T'])\n",
    "for i in range(1,len(r_crosses)):\n",
    "    Return_T=np.vstack((Return_T,R[i]['T']))\n",
    "    # #Return_T.append(R[i]['T'])\n",
    "    # wavelength=R[i]['lambda'][:,0]\n",
    "\n",
    "    # fig=plt.figure(figsize=(10,10))\n",
    "    # plt.subplot(1,1,1)\n",
    "    # plt.plot(wavelength,Return_T[:,i])"
   ]
  },
  {
   "cell_type": "code",
   "execution_count": 10,
   "metadata": {},
   "outputs": [],
   "source": [
    "np.savetxt('T.txt',Return_T)\n",
    "np.savetxt('r_cross.txt',r_crosses)"
   ]
  }
 ],
 "metadata": {
  "kernelspec": {
   "display_name": "Python 3",
   "language": "python",
   "name": "python3"
  },
  "language_info": {
   "codemirror_mode": {
    "name": "ipython",
    "version": 3
   },
   "file_extension": ".py",
   "mimetype": "text/x-python",
   "name": "python",
   "nbconvert_exporter": "python",
   "pygments_lexer": "ipython3",
   "version": "3.6.8"
  }
 },
 "nbformat": 4,
 "nbformat_minor": 2
}
