{
 "cells": [
  {
   "cell_type": "code",
   "execution_count": 58,
   "metadata": {},
   "outputs": [],
   "source": [
    "import numpy as np\n",
    "import torch\n",
    "from torch.utils import data\n",
    "from torch.nn.functional import normalize\n",
    "#from d2l import torch as d2l"
   ]
  },
  {
   "cell_type": "code",
   "execution_count": 59,
   "metadata": {},
   "outputs": [],
   "source": [
    "T=normalize(torch.FloatTensor(np.loadtxt(\"T.txt\")),dim=0)\n",
    "r_cross=normalize(torch.FloatTensor(np.loadtxt(\"r_cross.txt\")),dim=0)\n",
    "denorm=torch.norm(torch.FloatTensor(np.loadtxt(\"r_cross.txt\")),p=2,dim=0)\n",
    "def load_array(data_arrays, batch_size, is_train=True):  #@save\n",
    "    \"\"\"构造一个PyTorch数据迭代器 data_arrays: 第一维为features 第二维为labels\"\"\"\n",
    "    dataset = data.TensorDataset(*data_arrays)\n",
    "    return data.DataLoader(dataset, batch_size, shuffle=is_train)\n"
   ]
  },
  {
   "cell_type": "code",
   "execution_count": 60,
   "metadata": {},
   "outputs": [],
   "source": [
    "batch_size = 20\n",
    "data_iter = load_array((T, r_cross), batch_size, is_train=True)\n"
   ]
  },
  {
   "cell_type": "code",
   "execution_count": 61,
   "metadata": {},
   "outputs": [],
   "source": [
    "X,y=next(iter(data_iter))"
   ]
  },
  {
   "cell_type": "code",
   "execution_count": 62,
   "metadata": {},
   "outputs": [],
   "source": [
    "net=torch.nn.Sequential(torch.nn.Linear(128,128),torch.nn.ReLU(),torch.nn.Linear(128,128),torch.nn.ReLU(),torch.nn.Linear(128,1))"
   ]
  },
  {
   "cell_type": "code",
   "execution_count": 63,
   "metadata": {},
   "outputs": [
    {
     "name": "stdout",
     "output_type": "stream",
     "text": [
      "epoch 10, loss 0.000454\n",
      "epoch 10, loss 0.000312\n",
      "epoch 10, loss 0.000365\n",
      "epoch 10, loss 0.000124\n",
      "epoch 10, loss 0.000287\n",
      "epoch 10, loss 0.000018\n",
      "epoch 10, loss 0.000028\n",
      "epoch 10, loss 0.000060\n",
      "epoch 10, loss 0.000715\n",
      "epoch 10, loss 0.000133\n",
      "epoch 10, loss 0.000028\n",
      "epoch 10, loss 0.000131\n",
      "epoch 10, loss 0.000100\n",
      "epoch 10, loss 0.001346\n",
      "epoch 10, loss 0.000014\n",
      "epoch 10, loss 0.000606\n",
      "epoch 10, loss 0.000048\n",
      "epoch 10, loss 0.000602\n",
      "epoch 10, loss 0.000246\n",
      "epoch 10, loss 0.000339\n",
      "epoch 10, loss 0.000085\n",
      "epoch 10, loss 0.000316\n",
      "epoch 10, loss 0.000356\n",
      "epoch 10, loss 0.000398\n",
      "epoch 10, loss 0.000329\n",
      "epoch 10, loss 0.000439\n",
      "epoch 10, loss 0.000534\n",
      "epoch 10, loss 0.000058\n",
      "epoch 10, loss 0.000052\n",
      "epoch 10, loss 0.000395\n",
      "epoch 10, loss 0.000270\n",
      "epoch 10, loss 0.000257\n",
      "epoch 10, loss 0.000374\n",
      "epoch 10, loss 0.000961\n",
      "epoch 10, loss 0.000039\n",
      "epoch 10, loss 0.000020\n",
      "epoch 10, loss 0.000154\n",
      "epoch 10, loss 0.000357\n",
      "epoch 10, loss 0.000010\n",
      "tensor([1.0166, 1.0324, 1.0554, 1.0770, 1.0984, 1.1139, 1.1317, 1.1425, 1.1552,\n",
      "        1.1809, 1.2015, 1.2244, 1.2439, 1.2616, 1.2820, 1.2926, 1.3105, 1.3123,\n",
      "        1.3329, 1.3323], grad_fn=<MulBackward0>)\n",
      "tensor([1.0000, 1.0200, 1.0400, 1.0600, 1.0800, 1.1000, 1.1200, 1.1400, 1.1600,\n",
      "        1.1800, 1.2000, 1.2200, 1.2400, 1.2600, 1.2800, 1.3000, 1.3200, 1.3400,\n",
      "        1.3600, 1.3800])\n"
     ]
    }
   ],
   "source": [
    "loss = torch.nn.MSELoss()\n",
    "l = loss(net(T).squeeze(-1), r_cross)\n",
    "while l>=1e-5:\n",
    "\n",
    "    for i in (0,2,4):\n",
    "        net[i].weight.data.normal_(0, 0.1)\n",
    "        net[i].bias.data.fill_(0)\n",
    "\n",
    "    trainer = torch.optim.SGD(net.parameters(), lr=0.03)\n",
    "\n",
    "    num_epochs = 10\n",
    "    for epoch in range(num_epochs):\n",
    "        for X, y in data_iter:\n",
    "            l = loss(net(X).squeeze(-1) ,y)\n",
    "            trainer.zero_grad()\n",
    "            l.backward()\n",
    "            trainer.step()\n",
    "        l = loss(net(T).squeeze(-1), r_cross)\n",
    "    print(f'epoch {epoch + 1}, loss {l:f}')\n",
    "print(net(T).squeeze(-1)*denorm*1e4)\n",
    "print(r_cross*denorm*1e4)\n"
   ]
  }
 ],
 "metadata": {
  "kernelspec": {
   "display_name": "py368",
   "language": "python",
   "name": "python3"
  },
  "language_info": {
   "codemirror_mode": {
    "name": "ipython",
    "version": 3
   },
   "file_extension": ".py",
   "mimetype": "text/x-python",
   "name": "python",
   "nbconvert_exporter": "python",
   "pygments_lexer": "ipython3",
   "version": "3.11.5"
  }
 },
 "nbformat": 4,
 "nbformat_minor": 2
}
